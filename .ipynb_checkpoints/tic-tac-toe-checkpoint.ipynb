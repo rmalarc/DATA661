{
 "cells": [
  {
   "cell_type": "code",
   "execution_count": 1,
   "metadata": {},
   "outputs": [
    {
     "data": {
      "application/vnd.jupyter.widget-view+json": {
       "model_id": "40ab031f79614d2eaf3935158b8bf14d"
      }
     },
     "metadata": {},
     "output_type": "display_data"
    },
    {
     "name": "stderr",
     "output_type": "stream",
     "text": [
      "/Library/Frameworks/Python.framework/Versions/3.6/lib/python3.6/site-packages/tensorflow/python/util/deprecation.py:247: FutureWarning: comparison to `None` will result in an elementwise object comparison in the future.\n",
      "  equality = a == b\n"
     ]
    },
    {
     "name": "stdout",
     "output_type": "stream",
     "text": [
      "[(['x', 'x', '-', '-', '-', '-', '-', '-', '-'], 1), (['x', '-', 'x', '-', '-', '-', '-', '-', '-'], 2), (['x', '-', '-', 'x', '-', '-', '-', '-', '-'], 3), (['x', '-', '-', '-', 'x', '-', '-', '-', '-'], 4), (['x', '-', '-', '-', '-', 'x', '-', '-', '-'], 5), (['x', '-', '-', '-', '-', '-', 'x', '-', '-'], 6), (['x', '-', '-', '-', '-', '-', '-', 'x', '-'], 7), (['x', '-', '-', '-', '-', '-', '-', '-', 'x'], 8)]\n",
      "4\n",
      "[(['x', 'x', 'x', '-', 'o', '-', '-', '-', '-'], 1), (['x', '-', 'x', 'x', 'o', '-', '-', '-', '-'], 3), (['x', '-', 'x', '-', 'o', 'x', '-', '-', '-'], 5), (['x', '-', 'x', '-', 'o', '-', 'x', '-', '-'], 6), (['x', '-', 'x', '-', 'o', '-', '-', 'x', '-'], 7), (['x', '-', 'x', '-', 'o', '-', '-', '-', 'x'], 8)]\n",
      "3\n",
      "[(['x', '-', '-', '-', '-', '-', '-', '-', 'x'], 0), (['-', 'x', '-', '-', '-', '-', '-', '-', 'x'], 1), (['-', '-', 'x', '-', '-', '-', '-', '-', 'x'], 2), (['-', '-', '-', 'x', '-', '-', '-', '-', 'x'], 3), (['-', '-', '-', '-', 'x', '-', '-', '-', 'x'], 4), (['-', '-', '-', '-', '-', 'x', '-', '-', 'x'], 5), (['-', '-', '-', '-', '-', '-', 'x', '-', 'x'], 6), (['-', '-', '-', '-', '-', '-', '-', 'x', 'x'], 7)]\n",
      "3\n",
      "[(['x', '-', '-', 'o', '-', '-', '-', 'x', 'x'], 0), (['-', 'x', '-', 'o', '-', '-', '-', 'x', 'x'], 1), (['-', '-', 'x', 'o', '-', '-', '-', 'x', 'x'], 2), (['-', '-', '-', 'o', 'x', '-', '-', 'x', 'x'], 4), (['-', '-', '-', 'o', '-', 'x', '-', 'x', 'x'], 5), (['-', '-', '-', 'o', '-', '-', 'x', 'x', 'x'], 6)]\n",
      "6\n",
      "[(['x', 'x', '-', 'o', '-', '-', 'o', 'x', 'x'], 1), (['x', '-', 'x', 'o', '-', '-', 'o', 'x', 'x'], 2), (['x', '-', '-', 'o', 'x', '-', 'o', 'x', 'x'], 4), (['x', '-', '-', 'o', '-', 'x', 'o', 'x', 'x'], 5)]\n",
      "1\n",
      "[(['x', '-', 'x', '-', '-', '-', '-', '-', '-'], 0), (['-', 'x', 'x', '-', '-', '-', '-', '-', '-'], 1), (['-', '-', 'x', 'x', '-', '-', '-', '-', '-'], 3), (['-', '-', 'x', '-', 'x', '-', '-', '-', '-'], 4), (['-', '-', 'x', '-', '-', 'x', '-', '-', '-'], 5), (['-', '-', 'x', '-', '-', '-', 'x', '-', '-'], 6), (['-', '-', 'x', '-', '-', '-', '-', 'x', '-'], 7), (['-', '-', 'x', '-', '-', '-', '-', '-', 'x'], 8)]\n",
      "3\n",
      "[(['x', '-', 'x', 'o', '-', '-', 'x', '-', '-'], 0), (['-', 'x', 'x', 'o', '-', '-', 'x', '-', '-'], 1), (['-', '-', 'x', 'o', 'x', '-', 'x', '-', '-'], 4), (['-', '-', 'x', 'o', '-', 'x', 'x', '-', '-'], 5), (['-', '-', 'x', 'o', '-', '-', 'x', 'x', '-'], 7), (['-', '-', 'x', 'o', '-', '-', 'x', '-', 'x'], 8)]\n",
      "7\n",
      "[(['x', '-', '-', '-', '-', '-', '-', 'x', '-'], 0), (['-', 'x', '-', '-', '-', '-', '-', 'x', '-'], 1), (['-', '-', 'x', '-', '-', '-', '-', 'x', '-'], 2), (['-', '-', '-', 'x', '-', '-', '-', 'x', '-'], 3), (['-', '-', '-', '-', 'x', '-', '-', 'x', '-'], 4), (['-', '-', '-', '-', '-', 'x', '-', 'x', '-'], 5), (['-', '-', '-', '-', '-', '-', 'x', 'x', '-'], 6), (['-', '-', '-', '-', '-', '-', '-', 'x', 'x'], 8)]\n",
      "3\n",
      "[(['x', '-', '-', 'o', 'x', '-', '-', 'x', '-'], 0), (['-', 'x', '-', 'o', 'x', '-', '-', 'x', '-'], 1), (['-', '-', 'x', 'o', 'x', '-', '-', 'x', '-'], 2), (['-', '-', '-', 'o', 'x', 'x', '-', 'x', '-'], 5), (['-', '-', '-', 'o', 'x', '-', 'x', 'x', '-'], 6), (['-', '-', '-', 'o', 'x', '-', '-', 'x', 'x'], 8)]\n",
      "1\n",
      "[(['x', 'o', '-', 'o', 'x', '-', '-', 'x', 'x'], 0), (['-', 'o', 'x', 'o', 'x', '-', '-', 'x', 'x'], 2), (['-', 'o', '-', 'o', 'x', 'x', '-', 'x', 'x'], 5), (['-', 'o', '-', 'o', 'x', '-', 'x', 'x', 'x'], 6)]\n",
      "6\n"
     ]
    }
   ],
   "source": [
    "from IPython.display import display\n",
    "from ipywidgets import widgets, Button, HBox, VBox\n",
    "import tensorflow.contrib.learn as learn\n",
    "import tensorflow as tf\n",
    "import numpy as np\n",
    "\n",
    "tf.logging.set_verbosity(tf.logging.ERROR)\n",
    "\n",
    "\n",
    "moves = []\n",
    "\n",
    "def new_data():\n",
    "    possible_moves = []\n",
    "    for play in calculate_plays(board_to_matrix().flatten()):\n",
    "        possible_moves.append(board_to_numeric(play[0]))\n",
    "    return np.array(possible_moves,dtype=np.float32)*-1\n",
    "\n",
    "\n",
    "def reset_board():\n",
    "    for item in items:\n",
    "        item.description = '-'\n",
    "        item.disabled=False\n",
    "\n",
    "def board_to_matrix():\n",
    "    return(np.array([[items[0].description, items[3].description, items[6].description], [items[1].description, items[4].description, items[7].description], [items[2].description, items[5].description, items[8].description]]).transpose())\n",
    "\n",
    "        \n",
    "def score_board():\n",
    "    for i in ['x','o']:\n",
    "        vertical = ((items[0].description == i) & (items[1].description == i) & (items[2].description == i)) | ((items[3].description == i) & (items[4].description == i) & (items[5].description == i)) | ((items[6].description == i) & (items[7].description == i) & (items[8].description == i))\n",
    "        horizontal = ((items[0].description == i) & (items[3].description == i) & (items[6].description == i)) | ((items[1].description == i) & (items[4].description == i) & (items[7].description == i)) | ((items[2].description == i) & (items[5].description == i) & (items[8].description == i))\n",
    "        diagonal = ((items[0].description == i) & (items[4].description == i) & (items[8].description == i)) | ((items[2].description == i) & (items[4].description == i) & (items[6].description == i))\n",
    "        if (vertical | horizontal | diagonal):\n",
    "            finished=True\n",
    "            winner=i\n",
    "            return(finished,winner)\n",
    "    return(False,'')\n",
    "    \n",
    "def calculate_plays(b):\n",
    "    plays = []\n",
    "    for i in range(0, b.size):\n",
    "        if (b[i]=='-'):\n",
    "            r=b.tolist()\n",
    "            r[i] = 'x'\n",
    "            plays.append((r,i))\n",
    "    return(plays)\n",
    "\n",
    "\n",
    "def board_to_numeric(board):\n",
    "    board_num = []\n",
    "    for element in board:\n",
    "        if (element =='x'): val = 1.0\n",
    "        elif (element == 'o'): val = -1.0\n",
    "        else: val = 0.0\n",
    "        board_num.append(val)\n",
    "    return(board_num)\n",
    "\n",
    "s = np.array([])\n",
    "\n",
    "def play_on_click(sender):\n",
    "    before = board_to_matrix().flatten()\n",
    "    plays = calculate_plays(before)\n",
    "    if (sender.description=='-'):\n",
    "        sender.description='x'\n",
    "        sender.disabled= True\n",
    "        finished,winner = score_board()\n",
    "        if (finished):\n",
    "            reset_board()\n",
    "            return()\n",
    "        after = board_to_matrix().flatten()\n",
    "        plays_with_tf = []\n",
    "        for play in plays:\n",
    "            value = (board_to_numeric(play[0]),(play[0]==after).sum() == len(play[0]),play[1])\n",
    "            plays_with_tf.append(value)\n",
    "            moves.append(value)\n",
    "        model = train(moves)\n",
    "        \n",
    "        # let's calculate the probabilities of the possible moves\n",
    "        possible_moves = calculate_plays(board_to_matrix().flatten())\n",
    "        moves_with_probs = np.array(list(classifier.predict_proba(input_fn=new_data)))\n",
    "#        print(possible_moves)\n",
    "        print(moves_with_probs)\n",
    "        s = moves_with_probs.copy()\n",
    "        move_index = moves_with_probs[:,1].argmax()\n",
    "#        print(move_index)\n",
    "        move = possible_moves[move_index][1]\n",
    "#        print(move)\n",
    "        items[move].description ='o'\n",
    "        finished,winner = score_board()\n",
    "#        print(\"MAURICIO MAURICIO\")\n",
    "        if (finished):\n",
    "            reset_board()\n",
    "\n",
    "                \n",
    "\n",
    "    \n",
    "words = ['-', '-', '-', '-', '-', '-', '-', '-','-']\n",
    "items = [Button(description=w) for w in words]\n",
    "for item in items:\n",
    "    item.on_click(play_on_click)\n",
    "\n",
    "\n",
    "def new_game_on_click(sender):\n",
    "    for item in items:\n",
    "        item.disabled= False\n",
    "        item.description='-'\n",
    "\n",
    "\n",
    "# Specify that all features have real-value data\n",
    "feature_columns = [tf.contrib.layers.real_valued_column(\"\", dimension=9)]\n",
    "classifier  = learn.DNNClassifier(\n",
    "    feature_columns=feature_columns,\n",
    "    n_classes=2,\n",
    "    hidden_units=[4])\n",
    "\n",
    "\n",
    "def train(data):\n",
    "    features = []\n",
    "    response = []\n",
    "    for play in data:\n",
    "        features.append(play[0])\n",
    "        if (play[1]): r=1.0 \n",
    "        else: r= 0.0\n",
    "        response.append(r)\n",
    "        \n",
    "    features = np.array(features,dtype=float)\n",
    "    response = np.array(response,dtype=float)\n",
    "\n",
    "\n",
    "    # Fit model.\n",
    "    classifier.fit(x=features,\n",
    "                   y=response,\n",
    "                   steps=50)\n",
    "    return(classifier)\n",
    "\n",
    "\n",
    "    \n",
    "new_game = widgets.Button(description=\"New Game\")\n",
    "new_game.on_click(new_game_on_click)\n",
    "\n",
    "HBox([VBox([items[0], items[1], items[2]]), VBox([items[3], items[4], items[5],new_game]), VBox([items[6], items[7], items[8]])])\n",
    "\n",
    "\n",
    "##display(new_game)"
   ]
  },
  {
   "cell_type": "code",
   "execution_count": 158,
   "metadata": {},
   "outputs": [
    {
     "data": {
      "text/plain": [
       "array([[ 1.,  1.,  0.,  0.,  0.,  0.,  0.,  0.,  0.],\n",
       "       [ 1.,  0.,  1.,  0.,  0.,  0.,  0.,  0.,  0.],\n",
       "       [ 1.,  0.,  0.,  1.,  0.,  0.,  0.,  0.,  0.],\n",
       "       [ 1.,  0.,  0.,  0.,  1.,  0.,  0.,  0.,  0.],\n",
       "       [ 1.,  0.,  0.,  0.,  0.,  1.,  0.,  0.,  0.],\n",
       "       [ 1.,  0.,  0.,  0.,  0.,  0.,  1.,  0.,  0.],\n",
       "       [ 1.,  0.,  0.,  0.,  0.,  0.,  0.,  1.,  0.],\n",
       "       [ 1.,  0.,  0.,  0.,  0.,  0.,  0.,  0.,  1.]], dtype=float32)"
      ]
     },
     "execution_count": 158,
     "metadata": {},
     "output_type": "execute_result"
    }
   ],
   "source": [
    "data"
   ]
  },
  {
   "cell_type": "code",
   "execution_count": 147,
   "metadata": {},
   "outputs": [
    {
     "data": {
      "text/plain": [
       "array([['-', '-', '-'],\n",
       "       ['-', '-', '-'],\n",
       "       ['x', '-', 'o']], \n",
       "      dtype='<U1')"
      ]
     },
     "execution_count": 147,
     "metadata": {},
     "output_type": "execute_result"
    }
   ],
   "source": [
    "board_to_matrix().transpose()\n"
   ]
  },
  {
   "cell_type": "code",
   "execution_count": 133,
   "metadata": {},
   "outputs": [
    {
     "data": {
      "text/plain": [
       "[(['x', 'x', 'x', 'o', '-', '-', '-', '-', '-'], 1),\n",
       " (['x', '-', 'x', 'o', 'x', '-', '-', '-', '-'], 4),\n",
       " (['x', '-', 'x', 'o', '-', 'x', '-', '-', '-'], 5),\n",
       " (['x', '-', 'x', 'o', '-', '-', 'x', '-', '-'], 6),\n",
       " (['x', '-', 'x', 'o', '-', '-', '-', 'x', '-'], 7),\n",
       " (['x', '-', 'x', 'o', '-', '-', '-', '-', 'x'], 8)]"
      ]
     },
     "execution_count": 133,
     "metadata": {},
     "output_type": "execute_result"
    }
   ],
   "source": [
    "calculate_plays(board_to_matrix().flatten())"
   ]
  },
  {
   "cell_type": "code",
   "execution_count": 152,
   "metadata": {
    "collapsed": true
   },
   "outputs": [],
   "source": [
    "\n",
    "#list(classifier.predict_proba(input_fn=newData))\n"
   ]
  },
  {
   "cell_type": "code",
   "execution_count": 154,
   "metadata": {},
   "outputs": [
    {
     "data": {
      "text/plain": [
       "array([[-1., -0., -0., -0., -0., -0., -0., -0., -0.],\n",
       "       [-0., -1., -0., -0., -0., -0., -0., -0., -0.],\n",
       "       [-0., -0., -1., -0., -0., -0., -0., -0., -0.],\n",
       "       [-0., -0., -0., -1., -0., -0., -0., -0., -0.],\n",
       "       [-0., -0., -0., -0., -1., -0., -0., -0., -0.],\n",
       "       [-0., -0., -0., -0., -0., -1., -0., -0., -0.],\n",
       "       [-0., -0., -0., -0., -0., -0., -1., -0., -0.],\n",
       "       [-0., -0., -0., -0., -0., -0., -0., -1., -0.],\n",
       "       [-0., -0., -0., -0., -0., -0., -0., -0., -1.]], dtype=float32)"
      ]
     },
     "execution_count": 154,
     "metadata": {},
     "output_type": "execute_result"
    }
   ],
   "source": [
    "new_data()"
   ]
  },
  {
   "cell_type": "code",
   "execution_count": 136,
   "metadata": {},
   "outputs": [
    {
     "data": {
      "text/plain": [
       "array([['x', 'o', '-'],\n",
       "       ['-', '-', '-'],\n",
       "       ['x', '-', '-']], \n",
       "      dtype='<U1')"
      ]
     },
     "execution_count": 136,
     "metadata": {},
     "output_type": "execute_result"
    }
   ],
   "source": [
    "board_to_matrix().transpose()"
   ]
  },
  {
   "cell_type": "code",
   "execution_count": 137,
   "metadata": {},
   "outputs": [
    {
     "data": {
      "text/plain": [
       "array([['x', '-', 'x'],\n",
       "       ['o', '-', '-'],\n",
       "       ['-', '-', '-']], \n",
       "      dtype='<U1')"
      ]
     },
     "execution_count": 137,
     "metadata": {},
     "output_type": "execute_result"
    }
   ],
   "source": [
    "board_to_matrix()"
   ]
  },
  {
   "cell_type": "code",
   "execution_count": 85,
   "metadata": {
    "collapsed": true
   },
   "outputs": [],
   "source": []
  },
  {
   "cell_type": "code",
   "execution_count": 82,
   "metadata": {},
   "outputs": [
    {
     "data": {
      "text/plain": [
       "(False, '')"
      ]
     },
     "execution_count": 82,
     "metadata": {},
     "output_type": "execute_result"
    }
   ],
   "source": [
    "score_board()"
   ]
  }
 ],
 "metadata": {
  "kernelspec": {
   "display_name": "Python 3",
   "language": "python",
   "name": "python3"
  },
  "language_info": {
   "codemirror_mode": {
    "name": "ipython",
    "version": 3
   },
   "file_extension": ".py",
   "mimetype": "text/x-python",
   "name": "python",
   "nbconvert_exporter": "python",
   "pygments_lexer": "ipython3",
   "version": "3.6.1"
  }
 },
 "nbformat": 4,
 "nbformat_minor": 2
}
